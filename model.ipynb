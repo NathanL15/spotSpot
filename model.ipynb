{
 "cells": [
  {
   "cell_type": "code",
   "execution_count": 3,
   "metadata": {},
   "outputs": [
    {
     "name": "stdout",
     "output_type": "stream",
     "text": [
      "Classes: ['Closed Comedo', 'Cystic', 'Excoriated', 'Milia', 'Open Comedo', 'Perioral Dermatitis', 'Pustular', 'Rosacea', 'Scarring']\n"
     ]
    }
   ],
   "source": [
    "import os\n",
    "from sklearn.model_selection import train_test_split\n",
    "from torchvision import datasets, transforms\n",
    "from torch.utils.data import DataLoader, Subset\n",
    "\n",
    "# Set up transformations\n",
    "transform = transforms.Compose([\n",
    "    transforms.Resize((224, 224)),\n",
    "    transforms.ToTensor(),\n",
    "])\n",
    "\n",
    "# Load the full dataset\n",
    "full_dataset = datasets.ImageFolder(root=\"data/train\", transform=transform)\n",
    "\n",
    "# Create indices for training and testing split\n",
    "dataset_size = len(full_dataset)\n",
    "indices = list(range(dataset_size))\n",
    "train_indices, test_indices = train_test_split(indices, test_size=0.25, stratify=[full_dataset.targets[i] for i in indices])\n",
    "\n",
    "# Create subsets\n",
    "train_dataset = Subset(full_dataset, train_indices)\n",
    "test_dataset = Subset(full_dataset, test_indices)\n",
    "\n",
    "# Data loaders\n",
    "train_loader = DataLoader(train_dataset, batch_size=32, shuffle=True)\n",
    "test_loader = DataLoader(test_dataset, batch_size=32, shuffle=False)\n",
    "\n",
    "# Checking the classes\n",
    "print(\"Classes:\", full_dataset.classes)\n"
   ]
  },
  {
   "cell_type": "code",
   "execution_count": 7,
   "metadata": {},
   "outputs": [
    {
     "name": "stderr",
     "output_type": "stream",
     "text": [
      "c:\\Users\\Nathan\\anaconda3\\Lib\\site-packages\\torchvision\\models\\_utils.py:208: UserWarning: The parameter 'pretrained' is deprecated since 0.13 and may be removed in the future, please use 'weights' instead.\n",
      "  warnings.warn(\n",
      "c:\\Users\\Nathan\\anaconda3\\Lib\\site-packages\\torchvision\\models\\_utils.py:223: UserWarning: Arguments other than a weight enum or `None` for 'weights' are deprecated since 0.13 and may be removed in the future. The current behavior is equivalent to passing `weights=MobileNet_V2_Weights.IMAGENET1K_V1`. You can also use `weights=MobileNet_V2_Weights.DEFAULT` to get the most up-to-date weights.\n",
      "  warnings.warn(msg)\n",
      "Downloading: \"https://download.pytorch.org/models/mobilenet_v2-b0353104.pth\" to C:\\Users\\Nathan/.cache\\torch\\hub\\checkpoints\\mobilenet_v2-b0353104.pth\n",
      "100%|██████████| 13.6M/13.6M [00:00<00:00, 22.0MB/s]\n"
     ]
    }
   ],
   "source": [
    "import torch\n",
    "import torch.nn as nn\n",
    "from torchvision import models\n",
    "\n",
    "# Set the number of classes based on your dataset\n",
    "num_classes = len(train_loader.dataset.dataset.classes)\n",
    "\n",
    "# Load MobileNetV2 with pretrained weights\n",
    "model = models.mobilenet_v2(pretrained=True)\n",
    "\n",
    "# Replace the final layer to match the number of classes\n",
    "model.classifier[1] = nn.Linear(model.classifier[1].in_features, num_classes)\n",
    "\n",
    "# Move the model to the available device (GPU if available)\n",
    "device = torch.device(\"cuda\" if torch.cuda.is_available() else \"cpu\")\n",
    "model = model.to(device)\n"
   ]
  },
  {
   "cell_type": "code",
   "execution_count": 14,
   "metadata": {},
   "outputs": [],
   "source": [
    "from sklearn.metrics import confusion_matrix\n",
    "import numpy as np\n",
    "\n",
    "def evaluate_per_class(model, test_loader):\n",
    "    model.eval()  # Set to evaluation mode\n",
    "    all_preds = []\n",
    "    all_labels = []\n",
    "\n",
    "    # Initialize a confusion matrix\n",
    "    conf_matrix = np.zeros((len(test_loader.dataset.dataset.classes), len(test_loader.dataset.dataset.classes)))\n",
    "\n",
    "    with torch.no_grad():  # No need to compute gradients\n",
    "        for images, labels in test_loader:\n",
    "            images, labels = images.to(device), labels.to(device)  # Send to device\n",
    "            outputs = model(images)\n",
    "            _, preds = torch.max(outputs, 1)\n",
    "            \n",
    "            # Update confusion matrix\n",
    "            for t, p in zip(labels.view(-1), preds.view(-1)):\n",
    "                conf_matrix[t.item(), p.item()] += 1\n",
    "\n",
    "            all_preds.extend(preds.cpu().numpy())\n",
    "            all_labels.extend(labels.cpu().numpy())\n",
    "\n",
    "    # Calculate accuracy for each class\n",
    "    class_accuracies = []\n",
    "    for i in range(len(test_loader.dataset.dataset.classes)):\n",
    "        class_correct = conf_matrix[i, i]\n",
    "        class_total = conf_matrix[i].sum()\n",
    "        class_accuracy = class_correct / class_total if class_total > 0 else 0\n",
    "        class_accuracies.append(class_accuracy)\n",
    "        print(f\"Accuracy for class {test_loader.dataset.dataset.classes[i]}: {class_accuracy * 100:.2f}%\")\n",
    "    \n",
    "    # Calculate overall accuracy\n",
    "    accuracy = np.sum(np.diag(conf_matrix)) / np.sum(conf_matrix)\n",
    "    return accuracy, class_accuracies\n"
   ]
  },
  {
   "cell_type": "code",
   "execution_count": 8,
   "metadata": {},
   "outputs": [],
   "source": [
    "import torch.optim as optim\n",
    "\n",
    "# Define loss function and optimizer\n",
    "criterion = nn.CrossEntropyLoss()\n",
    "optimizer = optim.Adam(model.parameters(), lr=0.001)\n"
   ]
  },
  {
   "cell_type": "code",
   "execution_count": 12,
   "metadata": {},
   "outputs": [
    {
     "name": "stdout",
     "output_type": "stream",
     "text": [
      "Epoch 1/10, Loss: 0.5064\n",
      "Epoch 2/10, Loss: 0.5093\n",
      "Epoch 3/10, Loss: 0.5570\n",
      "Epoch 4/10, Loss: 0.6957\n",
      "Epoch 5/10, Loss: 0.4098\n",
      "Epoch 6/10, Loss: 0.2422\n",
      "Epoch 7/10, Loss: 0.3448\n",
      "Epoch 8/10, Loss: 0.4821\n",
      "Epoch 9/10, Loss: 0.4364\n",
      "Epoch 10/10, Loss: 0.2916\n"
     ]
    }
   ],
   "source": [
    "num_epochs = 10# You can adjust this based on your dataset size and computational power\n",
    "\n",
    "for epoch in range(num_epochs):\n",
    "    model.train()  # Set model to training mode\n",
    "    running_loss = 0.0\n",
    "\n",
    "    for images, labels in train_loader:\n",
    "        images, labels = images.to(device), labels.to(device)\n",
    "\n",
    "        # Zero the parameter gradients\n",
    "        optimizer.zero_grad()\n",
    "\n",
    "        # Forward pass\n",
    "        outputs = model(images)\n",
    "        loss = criterion(outputs, labels)\n",
    "\n",
    "        # Backward pass and optimization\n",
    "        loss.backward()\n",
    "        optimizer.step()\n",
    "\n",
    "        running_loss += loss.item()\n",
    "\n",
    "    print(f\"Epoch {epoch+1}/{num_epochs}, Loss: {running_loss / len(train_loader):.4f}\")\n"
   ]
  },
  {
   "cell_type": "code",
   "execution_count": 15,
   "metadata": {},
   "outputs": [
    {
     "name": "stdout",
     "output_type": "stream",
     "text": [
      "Accuracy for class Closed Comedo: 11.11%\n",
      "Accuracy for class Cystic: 33.33%\n",
      "Accuracy for class Excoriated: 28.57%\n",
      "Accuracy for class Milia: 50.00%\n",
      "Accuracy for class Open Comedo: 47.06%\n",
      "Accuracy for class Perioral Dermatitis: 96.67%\n",
      "Accuracy for class Pustular: 66.67%\n",
      "Accuracy for class Rosacea: 82.00%\n",
      "Accuracy for class Scarring: 0.00%\n",
      "Overall Test Accuracy: 63.98%\n"
     ]
    }
   ],
   "source": [
    "# Get the class-wise accuracy and overall accuracy\n",
    "overall_accuracy, class_accuracies = evaluate_per_class(model, test_loader)\n",
    "print(f\"Overall Test Accuracy: {overall_accuracy * 100:.2f}%\")\n"
   ]
  }
 ],
 "metadata": {
  "kernelspec": {
   "display_name": "base",
   "language": "python",
   "name": "python3"
  },
  "language_info": {
   "codemirror_mode": {
    "name": "ipython",
    "version": 3
   },
   "file_extension": ".py",
   "mimetype": "text/x-python",
   "name": "python",
   "nbconvert_exporter": "python",
   "pygments_lexer": "ipython3",
   "version": "3.11.9"
  }
 },
 "nbformat": 4,
 "nbformat_minor": 2
}
